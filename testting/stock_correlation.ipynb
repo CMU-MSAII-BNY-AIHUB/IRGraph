{
 "cells": [
  {
   "cell_type": "code",
   "execution_count": null,
   "metadata": {},
   "outputs": [],
   "source": [
    "import os\n",
    "import pandas as pd\n",
    "from xml.etree import ElementTree as ET\n",
    "import warnings\n",
    "import numpy as np\n",
    "import re\n",
    "import pytz\n",
    "from datetime import datetime,timedelta\n",
    "\n",
    "import json\n"
   ]
  },
  {
   "cell_type": "code",
   "execution_count": null,
   "metadata": {},
   "outputs": [],
   "source": [
    "xml_file = \"BK-Q1-2024_timestamp.xml\"\n",
    "STOCK = []\n",
    "POS = []\n",
    "NEG = []\n",
    "NEUTRAL = []\n",
    "EMOTION = []\n",
    "SENTIMENT=[]"
   ]
  },
  {
   "cell_type": "code",
   "execution_count": null,
   "metadata": {},
   "outputs": [],
   "source": [
    "def get_data_from_presentation(root):\n",
    "    for statement_element in root.findall(\".//statement\"):\n",
    "        speaker_element = statement_element.find(\"speaker\")\n",
    "        \n",
    "        sentiment = \"\" if not speaker_element.find('text').findall('sentiment') \\\n",
    "                    else speaker_element.find('text').findall('sentiment')[0].text\n",
    "        stockPrice = \"\" if not speaker_element.find('text').findall('stock_price') \\\n",
    "                    else speaker_element.find('text').findall('stock_price')[0].text\n",
    "        pos = \"\" if not speaker_element.find('text').findall('pos') \\\n",
    "                    else speaker_element.find('text').findall('pos')[0].text\n",
    "        neg = \"\" if not speaker_element.find('text').findall('neg') \\\n",
    "                    else speaker_element.find('text').findall('neg')[0].text\n",
    "        neutr = \"\" if not speaker_element.find('text').findall('neutr') \\\n",
    "                    else speaker_element.find('text').findall('neutr')[0].text\n",
    "        emotion = \"\" if not speaker_element.find('text').findall('emotion') \\\n",
    "                    else speaker_element.find('text').findall('emotion')[0].text\n",
    "        STOCK.append(stockPrice)\n",
    "        POS.append(pos)\n",
    "        NEG.append(neg)\n",
    "        NEUTRAL.append(neutr)\n",
    "        EMOTION.append(emotion)\n",
    "        SENTIMENT.append(sentiment)\n"
   ]
  },
  {
   "cell_type": "code",
   "execution_count": null,
   "metadata": {},
   "outputs": [],
   "source": [
    "def get_data_from_QA(root):\n",
    "    qa_section = root.find(\"./body/section[@name='Question and Answer']\")\n",
    "    text_type = \"\"\n",
    "    prev_time = None\n",
    "    for element in qa_section.iter():\n",
    "        \n",
    "        # \n",
    "        if element.tag == \"transition\" or element.tag==\"ending\":\n",
    "            text_type = \"transition\"\n",
    "            \n",
    "        elif \"question\" in element.tag.lower():\n",
    "            text_type = \"question\"\n",
    "            \n",
    "        elif \"answer\" in element.tag.lower():\n",
    "            text_type = \"answer\"\n",
    "            \n",
    "            \n",
    "\n",
    "        if element.tag == 'text':\n",
    "\n",
    "            if text_type == \"answer\":\n",
    " \n",
    "                sentiment = \"\" if not element.findall('sentiment') \\\n",
    "                            else element.findall('sentiment')[0].text\n",
    "                stockPrice = \"\" if not element.findall('stock_price') \\\n",
    "                            else element.findall('stock_price')[0].text\n",
    "                pos = \"\" if not element.findall('pos') \\\n",
    "                            else element.findall('pos')[0].text\n",
    "                neg = \"\" if not element.findall('neg') \\\n",
    "                            else element.findall('neg')[0].text\n",
    "                neutr = \"\" if not element.findall('neutr') \\\n",
    "                            else element.findall('neutr')[0].text\n",
    "                emotion = \"\" if not element.findall('emotion') \\\n",
    "                            else element.findall('emotion')[0].text\n",
    "                STOCK.append(stockPrice)\n",
    "                POS.append(pos)\n",
    "                NEG.append(neg)\n",
    "                NEUTRAL.append(neutr)\n",
    "                EMOTION.append(emotion)\n",
    "                SENTIMENT.append(sentiment)"
   ]
  },
  {
   "cell_type": "code",
   "execution_count": null,
   "metadata": {},
   "outputs": [],
   "source": [
    "tree = ET.parse(xml_file)\n",
    "root = tree.getroot()\n"
   ]
  }
 ],
 "metadata": {
  "language_info": {
   "name": "python"
  }
 },
 "nbformat": 4,
 "nbformat_minor": 2
}
