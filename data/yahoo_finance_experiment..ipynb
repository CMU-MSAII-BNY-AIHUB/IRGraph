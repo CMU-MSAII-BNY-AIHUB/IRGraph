{
 "cells": [
  {
   "cell_type": "code",
   "execution_count": 2,
   "metadata": {},
   "outputs": [],
   "source": [
    "import yfinance as yf"
   ]
  },
  {
   "cell_type": "code",
   "execution_count": 4,
   "metadata": {},
   "outputs": [
    {
     "name": "stderr",
     "output_type": "stream",
     "text": [
      "[*********************100%%**********************]  1 of 1 completed\n",
      "\n",
      "1 Failed download:\n",
      "['AAPL']: ValueError(\"time data 'Friday, October 17, 2020' does not match format '%Y-%m-%d'\")\n"
     ]
    },
    {
     "name": "stdout",
     "output_type": "stream",
     "text": [
      "Empty DataFrame\n",
      "Columns: [Open, High, Low, Close, Adj Close, Volume]\n",
      "Index: []\n"
     ]
    }
   ],
   "source": [
    "ticker_symbol = 'AAPL'\n",
    "\n",
    "# 使用yfinance下载特定日期的每小时数据\n",
    "# 例如，获取2023年3月1日的数据\n",
    "stock_data = yf.download(ticker_symbol, start='Friday, October 16, 2020', end='Friday, October 17, 2020', interval='1m')\n",
    "\n",
    "# 打印数据\n",
    "print(stock_data)"
   ]
  },
  {
   "cell_type": "code",
   "execution_count": 7,
   "metadata": {},
   "outputs": [
    {
     "name": "stdout",
     "output_type": "stream",
     "text": [
      "Open: 32.495094451169926\n",
      "Close: 33.35517883300781\n"
     ]
    }
   ],
   "source": [
    "import yfinance as yf\n",
    "\n",
    "# 股票代码，例如苹果公司的AAPL\n",
    "ticker_symbol = 'BK'\n",
    "\n",
    "try:\n",
    "    # 创建一个ticker对象\n",
    "    ticker = yf.Ticker(ticker_symbol)\n",
    "\n",
    "    # 获取2020年10月16日的数据\n",
    "    data = ticker.history(start=\"2020-10-15\", end=\"2020-10-17\")\n",
    "\n",
    "    # 如果数据不为空，则打印开盘价和收盘价\n",
    "    if not data.empty:\n",
    "        print(\"Open:\", data['Open'][0])\n",
    "        print(\"Close:\", data['Close'][0])\n",
    "    else:\n",
    "        print(\"No data available for the specified date.\")\n",
    "except Exception as e:\n",
    "    print(\"An error occurred:\", str(e))\n"
   ]
  },
  {
   "cell_type": "code",
   "execution_count": 6,
   "metadata": {},
   "outputs": [
    {
     "data": {
      "text/plain": [
       "'2020-10-16'"
      ]
     },
     "execution_count": 6,
     "metadata": {},
     "output_type": "execute_result"
    }
   ],
   "source": [
    "from datetime import datetime\n",
    "\n",
    "# Parse the given date string\n",
    "date_str = \"Friday, October 16, 2020 12:00 PM GMT\"\n",
    "date_format = \"%A, %B %d, %Y %I:%M %p %Z\"\n",
    "\n",
    "# Convert to datetime object\n",
    "datetime_obj = datetime.strptime(date_str, date_format)\n",
    "\n",
    "# Format the date in the desired format\n",
    "formatted_date = datetime_obj.strftime(\"%Y-%m-%d\")\n",
    "\n",
    "formatted_date\n"
   ]
  },
  {
   "cell_type": "code",
   "execution_count": 15,
   "metadata": {},
   "outputs": [
    {
     "name": "stdout",
     "output_type": "stream",
     "text": [
      "                                Open       High        Low      Close  \\\n",
      "Date                                                                    \n",
      "2020-10-16 00:00:00-04:00  34.206313  34.716988  33.579167  34.062965   \n",
      "\n",
      "                            Volume  Dividends  Stock Splits  \n",
      "Date                                                         \n",
      "2020-10-16 00:00:00-04:00  7351400        0.0           0.0  \n"
     ]
    }
   ],
   "source": [
    "import yfinance as yf\n",
    "\n",
    "# 股票代码，例如苹果公司的AAPL\n",
    "ticker_symbol = 'BK'\n",
    "\n",
    "try:\n",
    "    # 创建一个ticker对象\n",
    "    ticker = yf.Ticker(ticker_symbol)\n",
    "\n",
    "    # 获取2020年10月16日的数据\n",
    "    data = ticker.history(start=\"2020-10-16\", end=\"2020-10-17\")\n",
    "\n",
    "    # 如果数据不为空，则打印开盘价和收盘价\n",
    "    print(data)\n",
    "    # if not data.empty:\n",
    "    #     print(\"Open:\", data['Open'][0])\n",
    "    #     print(\"Close:\", data['Close'][0])\n",
    "    # else:\n",
    "    #     print(\"No data available for the specified date.\")\n",
    "except Exception as e:\n",
    "    print(\"An error occurred:\", str(e))\n"
   ]
  },
  {
   "cell_type": "code",
   "execution_count": null,
   "metadata": {},
   "outputs": [],
   "source": []
  },
  {
   "cell_type": "code",
   "execution_count": null,
   "metadata": {},
   "outputs": [],
   "source": []
  }
 ],
 "metadata": {
  "kernelspec": {
   "display_name": "final project",
   "language": "python",
   "name": "python3"
  },
  "language_info": {
   "codemirror_mode": {
    "name": "ipython",
    "version": 3
   },
   "file_extension": ".py",
   "mimetype": "text/x-python",
   "name": "python",
   "nbconvert_exporter": "python",
   "pygments_lexer": "ipython3",
   "version": "3.9.7"
  }
 },
 "nbformat": 4,
 "nbformat_minor": 2
}
