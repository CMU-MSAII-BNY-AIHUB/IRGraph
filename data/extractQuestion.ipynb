{
 "cells": [
  {
   "cell_type": "code",
   "execution_count": 5,
   "metadata": {},
   "outputs": [],
   "source": [
    "import xml.etree.ElementTree as ET\n",
    "import os"
   ]
  },
  {
   "cell_type": "code",
   "execution_count": 6,
   "metadata": {},
   "outputs": [
    {
     "name": "stdout",
     "output_type": "stream",
     "text": [
      "Dermot, I'd like to start with which you just touched on, the unchanged NII outlook. Curious what you're seeing as far as deposit cost pressure. We've begun to see that emerge. There are peer firms of Bank of New York's that have flagged some upward pressure in the back book. How is it that you are able to avoid these pressures and keep on your NII outlook that you had provided earlier?\n",
      "Just a quick follow-up first maybe around the deposit discussion. So Dermot, if I hear you correctly, no kind of catch-up from the back book that you expect to see in your deposit pricing for the rest of the year. But I guess, if we look at the deposit beta over the course of this quarter, it looks like it was pretty close to 100% on a currency adjusted basis. Maybe help us break down the deposit cost in U.S. and non-U.S. and maybe the type of -- what kind of deposit pressure and client conversations are you seeing in the kind of different regions?\n",
      "I know we talked a lot about deposits, but I did just want to drill down on how you're thinking about the life of the deposits. And is that at all changed versus history? And part of the reason for asking is just trying to understand if there's any impact on the securities portfolio as you put that deposit flow to work.\n",
      "So wanted to dig into noninterest-bearing deposits. They're now firmly within your 20% to 25% guidance or target range. Your peers have offered more conservative guidance on NIB deposit trends. I know some of your businesses and your mix is pretty unique or idiosyncratic, but I wanted to just better understand what's driving the resiliency in NIB trends and your confidence level at that 20% to 25% range is still appropriate.\n",
      "So the FedNow platform has started for interbank payments. I'm assuming you're going to be playing a big role in this, but I'm curious what you think the expected impact for the industry and for BK is? Like these things are usually good for expenses, good for capital efficiency but bad for revenue. But I'm just curious if you can tell us what you think?\n",
      "Just had a follow-up, Dermot, on the NII side. So heard everything that you talked about. You've done a good job in terms of forecasting NII and depositor behavior. Give us a sense of if we don't get any rate cuts over the next 12 months, where does NII trough, given the repricing on the security side that you expect and assuming no big surprises on deposits relative to your current expectations. Just is there a natural trough to NII without -- before we bake into it any Fed moves?\n",
      "Just a follow-up, to your point about being able to beat that expense expectation for the year and in reaction to a little bit different outcome on the fees than initially expected, I just wonder if you could just talk to us about both sides of that. Number one, the beating on the expense side, is that doing anything incremental in terms of either the severance effects or delaying investments? Or is it just the core? \n",
      "And on the fees side, I'm just wondering if you can kind of catalog for us which businesses have underperformed a little bit. And do you have a better line of sight for a better rate or change for those going forward?\n",
      "Most of my questions have been asked and answered. But maybe just a follow-on on the 1BNY Mellon initiative. Maybe on the revenue side of that, it sounds like, obviously, there's a lot of low-hanging fruit on the cost side that will run well over the next 1 to 2 years. But on the revenue side of that, I guess, how would you -- just in a comparison perspective relative to expenses, how would you cite the revenue potential for 1BNY over the next couple of years? And if you can point to any one early example of cross-sell traction.\n",
      "Dermot, earlier Robin pointed out that, obviously, there's going to be a lot of Treasury issuance in the second half of the year. Could you guys quantify the benefit or the monetary benefit that you'll see from this type of issuance because you're the primary clearer of Treasuries, of course? Is there any way of quantifying that for us?\n",
      "I wanted to go back to the theme of fees versus expenses and drill down a little bit into Securities Services and the margin in there. I mean, what portion of the margin improvement you're aiming for do you think will come from sheer expense discipline? And then what portion do you think comes from all the fee opportunities that you're speaking to?\n",
      "Sure, Rajiv. Look, we don't split out the RIA versus the broker-dealer. As you know, we're #1 in broker-dealer, and we're in the top 3 in RIA. So we're clearly a market leader. It's interesting the names that you picked because none of them are in the top 3 on either of those measures. \n",
      "So having said that, we're obviously not complacent about newer entrants into the market or other people who want to sort of get into this. This is a business that we've been in for a long time. We understand it, and we have scale. \n",
      "I'm just going to repoint you to the $2.3 trillion of assets on that platform that we think is -- gives us a tremendous starting point with clients and then the innovation that we've got in it. So we've gone multi-custody, which is very important in that business. \n",
      "We're innovating -- a lot of our services traditionally have been focused on the investor, but now we're delivering to the adviser as well with the Wove platform. We've innovated into direct indexing capabilities, financial planning capabilities, tax-aware investing capabilities. \n",
      "We're deploying BNY Mellon advisers and the capabilities from Investment Management because we have a $1.9 trillion investment manager. We have existing technology from our Wealth Management franchise, which is market-leading. And we're adopting a 1BNY Mellon mindset to that. So we're taking that technology and delivering it through Wove to other adviser clients. \n",
      "So we've got this whole breadth to how we're actually approaching this opportunity. And while we, of course, welcome the competition from some of these other folks, I don't think any of them can deliver that breadth of capability to our clients. And so for advisers and investors, we feel very good about our direction of travel in this business.\n"
     ]
    }
   ],
   "source": [
    "xml_file = \"The Bank of New York Mellon Corporation, Q2 2023 Earnings Call, Jul 18, 2023 (1).xml\" \n",
    "\n",
    "\n",
    "tree = ET.parse(os.path.join(\"transcripts\", xml_file))\n",
    "root = tree.getroot()\n",
    "\n",
    "\n",
    "questions = []\n",
    "for question in root.findall(\".//question\"):\n",
    "    text_element = question.find(\".//text\")\n",
    "    if text_element is not None:\n",
    "        questions.append(text_element.text)\n",
    "\n",
    "for q in questions:\n",
    "    print(q)"
   ]
  },
  {
   "cell_type": "code",
   "execution_count": null,
   "metadata": {},
   "outputs": [],
   "source": []
  }
 ],
 "metadata": {
  "kernelspec": {
   "display_name": "final project",
   "language": "python",
   "name": "python3"
  },
  "language_info": {
   "codemirror_mode": {
    "name": "ipython",
    "version": 3
   },
   "file_extension": ".py",
   "mimetype": "text/x-python",
   "name": "python",
   "nbconvert_exporter": "python",
   "pygments_lexer": "ipython3",
   "version": "3.9.7"
  }
 },
 "nbformat": 4,
 "nbformat_minor": 2
}
