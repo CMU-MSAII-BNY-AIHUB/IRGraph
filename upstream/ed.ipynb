{
 "cells": [
  {
   "cell_type": "code",
   "execution_count": 7,
   "metadata": {},
   "outputs": [
    {
     "name": "stdout",
     "output_type": "stream",
     "text": [
      "Similarity score between 'Michael G. O’Grady' and 'Kathy Gerard O’Grady': 58%\n"
     ]
    }
   ],
   "source": [
    "from fuzzywuzzy import fuzz\n",
    "\n",
    "# Function to compare two names and return the similarity score\n",
    "def compare_entities(name1, name2):\n",
    "    return fuzz.ratio(name1, name2)\n",
    "\n",
    "\n"
   ]
  },
  {
   "cell_type": "code",
   "execution_count": 9,
   "metadata": {},
   "outputs": [],
   "source": [
    "participants = [\n",
    "    ['Jason Jerrome Tyler', 'Northern Trust Corporation NasdaqGS:NTRS'],\n",
    "    ['Michael G. O’Grady', 'Northern Trust Corporation NasdaqGS:NTRS'],\n",
    "    ['Jeffery J. Harte', 'Piper Sandler & Co.'],\n",
    "    ['Michael Roger Carrier', 'BofA Securities'],\n",
    "    ['Jennifer Childe', 'Northern Trust Corporation NasdaqGS:NTRS'],\n",
    "    ['Michael Gerard O’Grady', 'Northern Trust Corporation NasdaqGS:NTRS'],\n",
    "    ['James Francis Mitchell', 'The Buckingham Research Group Incorporated'],\n",
    "    ['Lauren E. Allnutt', 'Northern Trust Corporation NasdaqGS:NTRS'],\n",
    "    ['Michael G. O’Grady', 'Chairman & CEO'],\n",
    "    ['Connell J. Schmitz', 'Morgan Stanley'],\n",
    "    ['Hang Leung', 'Wolfe Research, LLC'],\n",
    "    ['Gerard S. Cassidy', 'RBC Capital Markets, LLC'],\n",
    "    ['State Street Corporation NYSE:STT operator', ''],\n",
    "    ['Eric Walter Aboaf', 'State Street Corporation NYSE:STT'],\n",
    "    ['Ilene Fiszel Bieler', 'State Street Corporation NYSE:STT'],\n",
    "    ['Joseph L. Hooley', 'State Street Corporation NYSE:STT'],\n",
    "    ['Ronald Philip O’Hanley', 'State Street Corporation NYSE:STT'],\n",
    "    ['Jeffery J. Harte', \"Sandler O'Neill + Partners, L.P.\"],\n",
    "    ['Lauren Elliby Allnutt', 'Northern Trust Corporation NasdaqGS:NTRS']\n",
    "]\n"
   ]
  },
  {
   "cell_type": "code",
   "execution_count": 12,
   "metadata": {},
   "outputs": [
    {
     "name": "stdout",
     "output_type": "stream",
     "text": [
      "['Michael Gerard O’Grady', 'Northern Trust Corporation NasdaqGS:NTRS'] ['Michael G. O’Grady', 'Northern Trust Corporation NasdaqGS:NTRS'] 0.85\n",
      "['Lauren Elliby Allnutt', 'Northern Trust Corporation NasdaqGS:NTRS'] ['Lauren E. Allnutt', 'Northern Trust Corporation NasdaqGS:NTRS'] 0.84\n"
     ]
    }
   ],
   "source": [
    "global_list = []\n",
    "for p in participants:\n",
    "    exist = False\n",
    "    for g in global_list:\n",
    "        similarity_score = compare_entities(p[0], g[0]) * compare_entities(p[1], g[1]) / 10000\n",
    "        if similarity_score > 0.6:\n",
    "            exist = True\n",
    "            print(p, g, similarity_score)\n",
    "            break\n",
    "    if not exist:\n",
    "        global_list.append(p)"
   ]
  },
  {
   "cell_type": "code",
   "execution_count": 13,
   "metadata": {},
   "outputs": [
    {
     "data": {
      "text/plain": [
       "[['Jason Jerrome Tyler', 'Northern Trust Corporation NasdaqGS:NTRS'],\n",
       " ['Michael G. O’Grady', 'Northern Trust Corporation NasdaqGS:NTRS'],\n",
       " ['Jeffery J. Harte', 'Piper Sandler & Co.'],\n",
       " ['Michael Roger Carrier', 'BofA Securities'],\n",
       " ['Jennifer Childe', 'Northern Trust Corporation NasdaqGS:NTRS'],\n",
       " ['James Francis Mitchell', 'The Buckingham Research Group Incorporated'],\n",
       " ['Lauren E. Allnutt', 'Northern Trust Corporation NasdaqGS:NTRS'],\n",
       " ['Michael G. O’Grady', 'Chairman & CEO'],\n",
       " ['Connell J. Schmitz', 'Morgan Stanley'],\n",
       " ['Hang Leung', 'Wolfe Research, LLC'],\n",
       " ['Gerard S. Cassidy', 'RBC Capital Markets, LLC'],\n",
       " ['State Street Corporation NYSE:STT operator', ''],\n",
       " ['Eric Walter Aboaf', 'State Street Corporation NYSE:STT'],\n",
       " ['Ilene Fiszel Bieler', 'State Street Corporation NYSE:STT'],\n",
       " ['Joseph L. Hooley', 'State Street Corporation NYSE:STT'],\n",
       " ['Ronald Philip O’Hanley', 'State Street Corporation NYSE:STT'],\n",
       " ['Jeffery J. Harte', \"Sandler O'Neill + Partners, L.P.\"]]"
      ]
     },
     "execution_count": 13,
     "metadata": {},
     "output_type": "execute_result"
    }
   ],
   "source": [
    "global_list"
   ]
  },
  {
   "cell_type": "code",
   "execution_count": null,
   "metadata": {},
   "outputs": [],
   "source": []
  }
 ],
 "metadata": {
  "kernelspec": {
   "display_name": "dci-vton",
   "language": "python",
   "name": "python3"
  },
  "language_info": {
   "codemirror_mode": {
    "name": "ipython",
    "version": 3
   },
   "file_extension": ".py",
   "mimetype": "text/x-python",
   "name": "python",
   "nbconvert_exporter": "python",
   "pygments_lexer": "ipython3",
   "version": "3.8.5"
  }
 },
 "nbformat": 4,
 "nbformat_minor": 2
}
