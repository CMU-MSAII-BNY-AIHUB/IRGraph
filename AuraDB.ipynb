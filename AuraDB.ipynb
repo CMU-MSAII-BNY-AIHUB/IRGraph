{
  "nbformat": 4,
  "nbformat_minor": 0,
  "metadata": {
    "colab": {
      "provenance": []
    },
    "kernelspec": {
      "name": "python3",
      "display_name": "Python 3"
    },
    "language_info": {
      "name": "python"
    }
  },
  "cells": [
    {
      "cell_type": "markdown",
      "source": [
        "# Install Dependencies"
      ],
      "metadata": {
        "id": "21ATUzp8fyW9"
      }
    },
    {
      "cell_type": "code",
      "execution_count": null,
      "metadata": {
        "colab": {
          "base_uri": "https://localhost:8080/"
        },
        "id": "CaxLo51zfgV5",
        "outputId": "e509bb6a-a956-4e6f-9f70-d95ea771e7d9"
      },
      "outputs": [
        {
          "output_type": "stream",
          "name": "stdout",
          "text": [
            "Collecting neo4j\n",
            "  Downloading neo4j-5.18.0.tar.gz (198 kB)\n",
            "\u001b[?25l     \u001b[90m━━━━━━━━━━━━━━━━━━━━━━━━━━━━━━━━━━━━━━━━\u001b[0m \u001b[32m0.0/198.0 kB\u001b[0m \u001b[31m?\u001b[0m eta \u001b[36m-:--:--\u001b[0m\r\u001b[2K     \u001b[91m━━━━━━━━\u001b[0m\u001b[90m╺\u001b[0m\u001b[90m━━━━━━━━━━━━━━━━━━━━━━━━━━━━━━━\u001b[0m \u001b[32m41.0/198.0 kB\u001b[0m \u001b[31m1.1 MB/s\u001b[0m eta \u001b[36m0:00:01\u001b[0m\r\u001b[2K     \u001b[91m━━━━━━━━━━━━━━━━━━━━━━━━━━━━\u001b[0m\u001b[91m╸\u001b[0m\u001b[90m━━━━━━━━━━━\u001b[0m \u001b[32m143.4/198.0 kB\u001b[0m \u001b[31m2.0 MB/s\u001b[0m eta \u001b[36m0:00:01\u001b[0m\r\u001b[2K     \u001b[90m━━━━━━━━━━━━━━━━━━━━━━━━━━━━━━━━━━━━━━━━\u001b[0m \u001b[32m198.0/198.0 kB\u001b[0m \u001b[31m2.2 MB/s\u001b[0m eta \u001b[36m0:00:00\u001b[0m\n",
            "\u001b[?25h  Installing build dependencies ... \u001b[?25l\u001b[?25hdone\n",
            "  Getting requirements to build wheel ... \u001b[?25l\u001b[?25hdone\n",
            "  Installing backend dependencies ... \u001b[?25l\u001b[?25hdone\n",
            "  Preparing metadata (pyproject.toml) ... \u001b[?25l\u001b[?25hdone\n",
            "Requirement already satisfied: pytz in /usr/local/lib/python3.10/dist-packages (from neo4j) (2023.4)\n",
            "Building wheels for collected packages: neo4j\n",
            "  Building wheel for neo4j (pyproject.toml) ... \u001b[?25l\u001b[?25hdone\n",
            "  Created wheel for neo4j: filename=neo4j-5.18.0-py3-none-any.whl size=273862 sha256=921084d9bf45ae28b6b33d0468f52f0202f838a1b42a713d1672035399d4eddf\n",
            "  Stored in directory: /root/.cache/pip/wheels/e7/e1/a0/dd7c19192f5383ff57d02a6c126cbfe4b7b2ae82f70c6994ce\n",
            "Successfully built neo4j\n",
            "Installing collected packages: neo4j\n",
            "Successfully installed neo4j-5.18.0\n"
          ]
        }
      ],
      "source": [
        "!pip install neo4j"
      ]
    },
    {
      "cell_type": "markdown",
      "source": [
        "# Connect to the Database"
      ],
      "metadata": {
        "id": "h0m9xDEaiAif"
      }
    },
    {
      "cell_type": "code",
      "source": [
        "from neo4j import GraphDatabase\n",
        "\n",
        "# URI examples: \"neo4j://localhost\", \"neo4j+s://xxx.databases.neo4j.io\"\n",
        "URI = \"neo4j+s://bc8b6e15.databases.neo4j.io\"\n",
        "AUTH = (\"neo4j\", \"Vucu9PUNiseZqd3RqqHjOBQ2-spLkBuP1H_VYbaZo7M\")\n",
        "\n",
        "with GraphDatabase.driver(URI, auth=AUTH) as driver:\n",
        "    driver.verify_connectivity()"
      ],
      "metadata": {
        "id": "qqSu5N4afrid"
      },
      "execution_count": null,
      "outputs": []
    },
    {
      "cell_type": "markdown",
      "source": [
        "# Query the Database"
      ],
      "metadata": {
        "id": "cEVGr5PPiOz3"
      }
    },
    {
      "cell_type": "code",
      "source": [
        "# Construct the schema\n",
        "\n",
        "sample_schema = \"\"\"\n",
        "CREATE (BNY:COMPANY {name: 'BNY Mellon'})\n",
        "CREATE (q1_2023:EARNINGSCALL {name: 'q1_2023'})\n",
        "CREATE (BNY) -[:HAS_EARNINGS] -> (q1_2023)\n",
        "CREATE (q1_2023) -[:HAS_SECTION]-> (p:PARTICIPANT_SECTION {name: 'Participants'})\n",
        "CREATE (q1_2023) -[:HAS_SECTION]-> (presentation:PRESENTATION_SECTION {name: 'Presentation'})\n",
        "CREATE (q1_2023) -[:HAS_SECTION]-> (qa:QA_SECTION {name: \"Q & A\"})\n",
        "\n",
        "CREATE (p) - [:HAS_PARTICIPANT] -> (rv:PARTICIPANT {name: \"Robin Vince\", title: \"CEO of BNY Mellon\"})\n",
        "CREATE (p) - [:HAS_PARTICIPANT] -> (mm:PARTICIPANT {name: \"Mike Mayo\", title: \"Analyst Wells Fargo\"})\n",
        "\n",
        "CREATE (presentation) -[:PRESENT_BY]-> (rv)\n",
        "CREATE (presentation) -[:HAS_CONTENT]-> (content:CONTENT {name: \"content\", text: \"The fourth quarter afsdhijbafsdhiuasdijb hiusdafihuj hiuasdijafdsihj ihu iuhjaihuj ijhdhij hiujahjkf dhij uih  asdf\"})\n",
        "CREATE (rv) -[:ANNOUNCE] -> (content)\n",
        "\n",
        "\n",
        "CREATE (ans: ANSWER {text: \"Where do you exp...\", sentiment: \"+ve\"}) -[:ANSWER_TO] -> (question:QUESTION {text: \"Where do you exp...\", sentiment: \"+ve\"})\n",
        "CREATE (mm)-[:ASKED]->(question)\n",
        "CREATE (rv)-[:ANSWERED]->(ans)\n",
        "CREATE (qa) -[:HAS_QUESTION]->(question)\n",
        "\n",
        "CREATE (topic:Topic {name: \"Revenue\"})\n",
        "CREATE (ans)-[:MENTIONED]->(topic)\n",
        "CREATE (question)-[:MENTIONED]->(topic)\n",
        "\n",
        "\"\"\"\n",
        "\n",
        "records, summary, keys = driver.execute_query(sample_schema)"
      ],
      "metadata": {
        "colab": {
          "base_uri": "https://localhost:8080/"
        },
        "id": "ll6ragtHeiFX",
        "outputId": "9d029274-7470-4cab-9462-24e3387bfa4a"
      },
      "execution_count": null,
      "outputs": [
        {
          "output_type": "stream",
          "name": "stderr",
          "text": [
            "<ipython-input-8-d8d2851ba340>:30: DeprecationWarning: Using a driver after it has been closed is deprecated. Future versions of the driver will raise an error.\n",
            "  records, summary, keys = driver.execute_query(schema)\n"
          ]
        }
      ]
    },
    {
      "cell_type": "markdown",
      "source": [
        "# Parsing\n"
      ],
      "metadata": {
        "id": "Frq2ezQLXV7e"
      }
    },
    {
      "cell_type": "code",
      "source": [
        "import xml.etree.ElementTree as ET\n",
        "tree = ET.parse('data.xml')\n",
        "root = tree.getroot()"
      ],
      "metadata": {
        "id": "oaDJIkomXU80"
      },
      "execution_count": null,
      "outputs": []
    },
    {
      "cell_type": "code",
      "source": [
        "header_element = root.find('header')"
      ],
      "metadata": {
        "id": "lVM6LkKXbMHb"
      },
      "execution_count": null,
      "outputs": []
    },
    {
      "cell_type": "code",
      "source": [
        "class Transcript:\n",
        "    def __init__(self, header, participants_section, presentation_section, qa_section):\n",
        "        self.header = header\n",
        "        self.participants_section = participants_section\n",
        "        self.presentation_section = presentation_section\n",
        "        self.qa_section = qa_section\n",
        "\n",
        "class Header:\n",
        "    def __init__(self, company, title, time, currency, note):\n",
        "        self.company = company\n",
        "        self.title = title\n",
        "        self.time = time\n",
        "        self.currency = currency\n",
        "        self.note = note\n",
        "\n",
        "class ParticipantsSection:\n",
        "    def __init__(self, participants=None, name=\"call participants\"):\n",
        "        self.name = name\n",
        "        self.__participantsDict__ = participants\n",
        "        self.participants = participants.values()\n",
        "\n",
        "    def get_participant(self, participants_id):\n",
        "        return self.__participantsDict__[participants_id]\n",
        "\n",
        "\n",
        "class Person:\n",
        "    def __init__(self, id, position=None, group=None, name=None):\n",
        "        self.position = position\n",
        "        self.group = group\n",
        "        self.id = id\n",
        "        self.name = name\n",
        "\n",
        "    def __repr__(self):\n",
        "        return self.name + ' ' + self.position\n",
        "\n",
        "class Statement: # Content in the schema\n",
        "    def __init__(self, speaker:Person, text):\n",
        "        self.speaker = speaker\n",
        "        self.text = text\n",
        "\n",
        "\n",
        "class PresentationSection:\n",
        "    def __init__(self, statements=None, name=\"Presentation\"):\n",
        "        self.name = name\n",
        "        self.statements = statements if statements else []\n",
        "\n",
        "\n",
        "class QASection:\n",
        "    def __init__(self, transitions=None, questions=None, answers=None):\n",
        "        self.transitions = transitions if transitions else []\n",
        "        self.__questionsDict__ = questions if questions else {}\n",
        "        self.questions = questions.values()\n",
        "        self.answers = answers if answers else []\n",
        "\n",
        "    def get_question(self, question_id):\n",
        "        return self.__questionsDict__[question_id]\n",
        "\n",
        "class Transition:\n",
        "    def __init__(self, speaker, text):\n",
        "        self.speaker = speaker\n",
        "        self.text = text\n",
        "\n",
        "class Question:\n",
        "    def __init__(self, id, speaker, text):\n",
        "        self.id = id\n",
        "        self.speaker = speaker\n",
        "        self.text = text\n",
        "\n",
        "class Answer:\n",
        "    def __init__(self, id, question, speaker, text):\n",
        "        self.id = id\n",
        "        self.question=question\n",
        "        self.speaker = speaker\n",
        "        self.text = text\n"
      ],
      "metadata": {
        "id": "bJEy-7T7fht8"
      },
      "execution_count": null,
      "outputs": []
    },
    {
      "cell_type": "code",
      "source": [
        "def extract_participants(section_element, header):\n",
        "    operator = Person(\n",
        "            id=\"-1\",\n",
        "            name=f\"{header.company} operator\"\n",
        "        )\n",
        "    participants = {\"-1\": operator}\n",
        "    for person_element in section_element.findall('person'):\n",
        "        person = Person(\n",
        "            id=person_element.get('id'),\n",
        "            position=person_element.get('position'),\n",
        "            group=person_element.get('group'),\n",
        "            name=person_element.text\n",
        "        )\n",
        "        participants[person_element.get('id')] = person\n",
        "    par_sec = ParticipantsSection(participants)\n",
        "    return par_sec\n",
        "\n",
        "def extract_presentation(section_element, participants):\n",
        "    statements = []\n",
        "    for statement_element in section_element.findall('statement'):\n",
        "        speaker_element = statement_element.find('speaker')\n",
        "        speaker_id=speaker_element.get('id')\n",
        "\n",
        "        statement = Statement(speaker=participants.get_participant(speaker_id), text=speaker_element.find('text').text)\n",
        "        statements.append(statement)\n",
        "    return PresentationSection(statements)\n",
        "\n",
        "def extract_qanda(section_element, participants):\n",
        "    questions = {}\n",
        "    answers = []\n",
        "    transitions = []\n",
        "    for question_element in section_element.findall('question'):\n",
        "        speaker_element = question_element.find('speaker')\n",
        "        question = Question(\n",
        "            id=question_element.get('id'),\n",
        "            speaker=participants.get_participant(speaker_element.get('id')),\n",
        "            text=speaker_element.find('text').text\n",
        "        )\n",
        "        questions[question.id] = question\n",
        "\n",
        "    for transition_element in section_element.findall('trainsition'): # This is a typo\n",
        "        speaker_element = transition_element.find('speaker')\n",
        "        transition = Transition(\n",
        "            speaker=participants.get_participant(\"-1\"), # Operator\n",
        "            text=speaker_element.find('text').text\n",
        "        )\n",
        "        transitions.append(transition)\n",
        "\n",
        "    for answer_element in section_element.findall('answer'):\n",
        "        speaker_element = answer_element.find('speaker')\n",
        "        answer = Answer(\n",
        "            id=answer_element.get('id'),\n",
        "            question=questions[answer_element.get('id')],\n",
        "            speaker=participants.get_participant(speaker_element.get('id')),\n",
        "            text=speaker_element.find('text').text\n",
        "        )\n",
        "        answers.append(answer)\n",
        "\n",
        "\n",
        "    return QASection(transitions=transitions, questions=questions, answers=answers)\n"
      ],
      "metadata": {
        "id": "BNsJ2DvQdwje"
      },
      "execution_count": null,
      "outputs": []
    },
    {
      "cell_type": "code",
      "source": [
        "\n",
        "# Extract header information\n",
        "header_element = root.find('header')\n",
        "header = Header(\n",
        "    company=header_element.find('company').text,\n",
        "    title=header_element.find('title').text,\n",
        "    time=header_element.find('time').text,\n",
        "    currency=header_element.find('currency').text,\n",
        "    note=header_element.find('note').text\n",
        ")\n",
        "\n",
        "for section_element in root.findall('body/section'):\n",
        "    if section_element.get('name') == \"call participants\":\n",
        "        participants_section = extract_participants(section_element, header)\n",
        "    elif section_element.get('name') == \"Presentation \":\n",
        "        presentation_section = extract_presentation(section_element, participants_section)\n",
        "    elif section_element.get('name') == \"Question and Answer\":\n",
        "        qa_section = extract_qanda(section_element, participants_section)\n",
        "    else:\n",
        "        print(f\"Skip tag {section_element.get('name')}\")\n",
        "\n",
        "transcript = Transcript(header, participants_section, presentation_section, qa_section)"
      ],
      "metadata": {
        "id": "Ulds3eRHfwcX",
        "colab": {
          "base_uri": "https://localhost:8080/"
        },
        "outputId": "65c07b1f-9936-4e35-fa32-3c59bd76becd"
      },
      "execution_count": null,
      "outputs": [
        {
          "output_type": "stream",
          "name": "stdout",
          "text": [
            "Skip tag financial tables\n"
          ]
        }
      ]
    },
    {
      "cell_type": "code",
      "source": [
        "header.title"
      ],
      "metadata": {
        "colab": {
          "base_uri": "https://localhost:8080/",
          "height": 36
        },
        "id": "VU7XfeYMcJdB",
        "outputId": "2ae348af-cb18-475f-c221-7c15f38e337e"
      },
      "execution_count": null,
      "outputs": [
        {
          "output_type": "execute_result",
          "data": {
            "text/plain": [
              "'FQ2 2023 Earnings Call Transcripts'"
            ],
            "application/vnd.google.colaboratory.intrinsic+json": {
              "type": "string"
            }
          },
          "metadata": {},
          "execution_count": 48
        }
      ]
    },
    {
      "cell_type": "code",
      "source": [
        "COMPANY = \"COMPANY\"\n",
        "EARNINGSCALL = \"EARNINGSCALL\"\n",
        "PARTICIPANT_SECTION = \"PARTICIPANT_SECTION\"\n",
        "PRESENTATION_SECTION = \"PRESENTATION_SECTION\"\n",
        "QA_SECTION = \"QA_SECTION\"\n",
        "def add_query(cyper, query):\n",
        "    return cyper + query + \"\\n\"\n",
        "\n",
        "def make_participant_id(id):\n",
        "    return f\"participant{int(id)+1}\" #offset -1\n",
        "\n",
        "def make_content_id(id):\n",
        "    return f\"content{id}\"\n",
        "\n",
        "def make_question_id(id):\n",
        "    return f\"question{id}\"\n",
        "def make_answer_id(id):\n",
        "    return f\"answer{id}\"\n",
        "\n",
        "cypher = \"\"\n",
        "# process_header:\n",
        "header = transcript.header\n",
        "query = \\\n",
        "    'MERGE (%s:COMPANY {name: \"%s\"}) \\n' % (COMPANY, header.company) + \\\n",
        "    'MERGE (%s:EARNINGSCALL {name: \"%s\", time: \"%s\"}) \\n' % (EARNINGSCALL, header.title, header.time) + \\\n",
        "    'MERGE (%s) -[:HAS_EARNINGS] -> (%s)' % (COMPANY, EARNINGSCALL)\n",
        "\n",
        "cypher = add_query(cypher, query)\n",
        "\n",
        "# process_participants:\n",
        "participants_section = transcript.participants_section\n",
        "query = 'MERGE (%s) -[:HAS_SECTION]-> (%s:SECTION {name: \"%s\"}) \\n' % (EARNINGSCALL, PARTICIPANT_SECTION, PARTICIPANT_SECTION)\n",
        "for participant in participants_section.participants:\n",
        "    q = 'MERGE (PARTICIPANT_SECTION) - [:HAS_PARTICIPANT] -> (%s:PARTICIPANT {name: \"%s\", position: \"%s\", group: \"%s\", id: \"%s\"})' \\\n",
        "    % (make_participant_id(participant.id), participant.name, participant.position, participant.group, participant.id)\n",
        "    query = add_query(query, q)\n",
        "\n",
        "cypher = add_query(cypher, query)\n",
        "\n",
        "\n",
        "# process_presentation:\n",
        "presentation_section = transcript.presentation_section\n",
        "query = 'MERGE (%s) -[:HAS_SECTION]-> (%s:SECTION {name: \"%s\"}) \\n' % (EARNINGSCALL, PRESENTATION_SECTION, PRESENTATION_SECTION)\n",
        "content_id = 0\n",
        "for content in presentation_section.statements:\n",
        "    q = 'MERGE (%s) -[:HAS_CONTENT]-> (%s:CONTENT {text: \"%s\"}) \\n' % (PRESENTATION_SECTION, make_content_id(content_id), content.text) + \\\n",
        "        'MERGE (%s) -[:ANNOUNCE] -> (%s) \\n' % (make_participant_id(content.speaker.id), make_content_id(content_id))\n",
        "    content_id += 1\n",
        "    query = add_query(query, q)\n",
        "\n",
        "cypher = add_query(cypher, query)\n",
        "\n",
        "# process_qa_section:\n",
        "# Questions\n",
        "qa_section = transcript.qa_section\n",
        "query = 'MERGE (%s) -[:HAS_SECTION]-> (%s:SECTION {name: \"%s\"}) \\n' % (EARNINGSCALL, QA_SECTION, QA_SECTION)\n",
        "for question in qa_section.questions:\n",
        "    # TODO: add sentiment analysis!\n",
        "    q = 'MERGE (%s) -[:HAS_QUESTION]->(%s:QUESTION {text: \"%s\", sentiment: \"\"}) \\n' % (QA_SECTION, make_question_id(question.id), question.text) + \\\n",
        "        'MERGE (%s)-[:ASKED]->(%s)' % (make_participant_id(question.speaker.id), make_question_id(question.id))\n",
        "    # TODO: add topic modeling and associate question to topics\n",
        "    query = add_query(query, q)\n",
        "cypher = add_query(cypher, query)\n",
        "\n",
        "# Answer\n",
        "query = \"\"\n",
        "answer_id = 0\n",
        "for answer in qa_section.answers:\n",
        "    # TODO: add sentiment analysis!\n",
        "    q = 'MERGE (%s: ANSWER {text: \"%s\", sentiment: \"\"}) -[:ANSWER_TO] -> (%s) \\n' % (make_answer_id(answer_id), answer.text, make_question_id(answer.question.id)) + \\\n",
        "        'MERGE (%s)-[:ANSWERED]->(%s) \\n' % (make_participant_id(answer.speaker.id), make_answer_id(answer_id)) + \\\n",
        "        'MERGE (%s) -[:HAS_ANSWER] -> (%s)' % (make_question_id(answer.question.id), make_answer_id(answer_id)) + \\\n",
        "        'MERGE (%s)-[:WAS_ANSWERED_BY]->(%s) \\n' % (make_answer_id(answer_id), make_participant_id(answer.speaker.id))\n",
        "    query = add_query(query, q)\n",
        "    answer_id += 1\n",
        "cypher = add_query(cypher, query)\n",
        "\n",
        "\n",
        "\n"
      ],
      "metadata": {
        "id": "zrExmnMRf2It"
      },
      "execution_count": null,
      "outputs": []
    },
    {
      "cell_type": "code",
      "source": [
        "records, summary, keys = driver.execute_query(cypher)"
      ],
      "metadata": {
        "colab": {
          "base_uri": "https://localhost:8080/"
        },
        "id": "VSJAfBQ1YkwB",
        "outputId": "689d1371-3aa8-4243-e6ae-1444b8c98682"
      },
      "execution_count": null,
      "outputs": [
        {
          "output_type": "stream",
          "name": "stderr",
          "text": [
            "<ipython-input-83-81b8fd8e289d>:1: DeprecationWarning: Using a driver after it has been closed is deprecated. Future versions of the driver will raise an error.\n",
            "  records, summary, keys = driver.execute_query(cypher)\n"
          ]
        }
      ]
    },
    {
      "cell_type": "code",
      "source": [
        "def addParticipantsSection()"
      ],
      "metadata": {
        "colab": {
          "base_uri": "https://localhost:8080/",
          "height": 36
        },
        "id": "RAg5MZRVXVLo",
        "outputId": "ca59dc19-1af2-45e5-96da-773ed002cf54"
      },
      "execution_count": null,
      "outputs": [
        {
          "output_type": "execute_result",
          "data": {
            "text/plain": [
              "'Transcript'"
            ],
            "application/vnd.google.colaboratory.intrinsic+json": {
              "type": "string"
            }
          },
          "metadata": {},
          "execution_count": 2
        }
      ]
    },
    {
      "cell_type": "code",
      "source": [],
      "metadata": {
        "id": "T5Q5fonOeKPS"
      },
      "execution_count": null,
      "outputs": []
    },
    {
      "cell_type": "code",
      "source": [],
      "metadata": {
        "id": "40mRX5A0eKac"
      },
      "execution_count": null,
      "outputs": []
    },
    {
      "cell_type": "code",
      "source": [],
      "metadata": {
        "id": "M0OGVIuseKoT"
      },
      "execution_count": null,
      "outputs": []
    },
    {
      "cell_type": "code",
      "source": [],
      "metadata": {
        "id": "RUIT7OHieLWe"
      },
      "execution_count": null,
      "outputs": []
    },
    {
      "cell_type": "code",
      "source": [],
      "metadata": {
        "id": "Oau-MBTVeLUG"
      },
      "execution_count": null,
      "outputs": []
    },
    {
      "cell_type": "code",
      "source": [],
      "metadata": {
        "id": "t1pxBth8eLRU"
      },
      "execution_count": null,
      "outputs": []
    },
    {
      "cell_type": "code",
      "source": [],
      "metadata": {
        "id": "xjCoBgcheLN9"
      },
      "execution_count": null,
      "outputs": []
    },
    {
      "cell_type": "code",
      "source": [],
      "metadata": {
        "id": "6oMzKrVLeLKQ"
      },
      "execution_count": null,
      "outputs": []
    },
    {
      "cell_type": "code",
      "source": [],
      "metadata": {
        "id": "SB7wWi2XeLGF"
      },
      "execution_count": null,
      "outputs": []
    },
    {
      "cell_type": "code",
      "source": [],
      "metadata": {
        "id": "tE1QWkMKeK_0"
      },
      "execution_count": null,
      "outputs": []
    },
    {
      "cell_type": "code",
      "source": [
        "# Get the name of all 42 year-olds\n",
        "records, summary, keys = driver.execute_query(\n",
        "    \"\"\"MATCH (n:Product)<-[r:CONTAINS]-(s:Order)\n",
        "    RETURN n,r,s\n",
        "    LIMIT 25\"\"\",\n",
        "    age=42,\n",
        "    database_=\"neo4j\",\n",
        ")\n",
        "\n",
        "# Loop through results and do something with them\n",
        "for r in records:\n",
        "    print(r['n']['productName'], r['s']['orderDate'])\n",
        "\n",
        "# Summary information\n",
        "print(\"The query `{query}` returned {records_count} records in {time} ms.\".format(\n",
        "    query=summary.query, records_count=len(records),\n",
        "    time=summary.result_available_after,\n",
        "))"
      ],
      "metadata": {
        "colab": {
          "base_uri": "https://localhost:8080/"
        },
        "id": "zAFlxIxvhfXt",
        "outputId": "9b884b4e-0ba6-410a-b14c-97ac62ce02d9"
      },
      "execution_count": null,
      "outputs": [
        {
          "output_type": "stream",
          "name": "stderr",
          "text": [
            "<ipython-input-4-c5bcbfafdb46>:2: DeprecationWarning: Using a driver after it has been closed is deprecated. Future versions of the driver will raise an error.\n",
            "  records, summary, keys = driver.execute_query(\n"
          ]
        },
        {
          "output_type": "stream",
          "name": "stdout",
          "text": [
            "The query `MATCH (n:Product)<-[r:CONTAINS]-(s:Order)\n",
            "    RETURN n,r,s\n",
            "    LIMIT 25` returned 0 records in 31 ms.\n"
          ]
        }
      ]
    },
    {
      "cell_type": "markdown",
      "source": [
        "# Close the Database Connection"
      ],
      "metadata": {
        "id": "8RfcKsXKifOx"
      }
    },
    {
      "cell_type": "code",
      "source": [
        "driver.close()"
      ],
      "metadata": {
        "id": "ABsYzuXaiJ8i"
      },
      "execution_count": null,
      "outputs": []
    },
    {
      "cell_type": "code",
      "source": [],
      "metadata": {
        "id": "UoxT9L0Kp9VZ"
      },
      "execution_count": null,
      "outputs": []
    }
  ]
}